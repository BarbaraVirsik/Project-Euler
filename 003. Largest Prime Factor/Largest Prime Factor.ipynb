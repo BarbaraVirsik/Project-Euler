{
 "cells": [
  {
   "cell_type": "markdown",
   "metadata": {},
   "source": [
    "The prime factors of 13195 are 5, 7, 13 and 29.\n",
    "\n",
    "What is the largest prime factor of the number 600851475143 ?"
   ]
  },
  {
   "cell_type": "code",
   "execution_count": 10,
   "metadata": {},
   "outputs": [],
   "source": [
    "from math import sqrt, ceil"
   ]
  },
  {
   "cell_type": "code",
   "execution_count": 8,
   "metadata": {},
   "outputs": [],
   "source": [
    "def is_prime(n):\n",
    "    for i in range(2, ceil(sqrt(n)) + 1): \n",
    "        if n%i == 0: \n",
    "            return False\n",
    "    return True\n",
    "\n",
    "def primes(n):\n",
    "    list_of_primes = [2]\n",
    "    for i in range(3, n):\n",
    "        if is_prime(i):\n",
    "            list_of_primes.append(i)\n",
    "    return list_of_primes"
   ]
  },
  {
   "cell_type": "code",
   "execution_count": 20,
   "metadata": {},
   "outputs": [],
   "source": [
    "bignum = 600851475143\n",
    "upper_lim = ceil(sqrt(bignum)) + 1"
   ]
  },
  {
   "cell_type": "code",
   "execution_count": 12,
   "metadata": {},
   "outputs": [],
   "source": [
    "many_primes = primes(upper_lim)"
   ]
  },
  {
   "cell_type": "code",
   "execution_count": 14,
   "metadata": {},
   "outputs": [],
   "source": [
    "list_len = len(many_primes)"
   ]
  },
  {
   "cell_type": "code",
   "execution_count": 21,
   "metadata": {},
   "outputs": [
    {
     "name": "stdout",
     "output_type": "stream",
     "text": [
      "71\n",
      "839\n",
      "1471\n",
      "6857\n",
      "1\n"
     ]
    }
   ],
   "source": [
    "i = 0\n",
    "while i < list_len:\n",
    "    candidate_prime = many_primes[i]\n",
    "    if bignum % candidate_prime == 0:\n",
    "        bignum //= candidate_prime\n",
    "        print(candidate_prime)\n",
    "    else:\n",
    "        i += 1\n",
    "\n",
    "print(bignum)"
   ]
  },
  {
   "cell_type": "code",
   "execution_count": null,
   "metadata": {},
   "outputs": [],
   "source": []
  }
 ],
 "metadata": {
  "kernelspec": {
   "display_name": "Python 3",
   "language": "python",
   "name": "python3"
  },
  "language_info": {
   "codemirror_mode": {
    "name": "ipython",
    "version": 3
   },
   "file_extension": ".py",
   "mimetype": "text/x-python",
   "name": "python",
   "nbconvert_exporter": "python",
   "pygments_lexer": "ipython3",
   "version": "3.6.4"
  }
 },
 "nbformat": 4,
 "nbformat_minor": 2
}
